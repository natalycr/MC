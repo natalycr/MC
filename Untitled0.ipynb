{
 "metadata": {
  "name": "",
  "signature": "sha256:6958c73ef160007715e2e5660da850514c94e21a9693020777399668afe8b140"
 },
 "nbformat": 3,
 "nbformat_minor": 0,
 "worksheets": []
}