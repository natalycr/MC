{
 "cells": [
  {
   "cell_type": "code",
   "execution_count": 1,
   "metadata": {
    "collapsed": false
   },
   "outputs": [
    {
     "name": "stdout",
     "output_type": "stream",
     "text": [
      "Populating the interactive namespace from numpy and matplotlib\n"
     ]
    }
   ],
   "source": [
    "% pylab inline"
   ]
  },
  {
   "cell_type": "code",
   "execution_count": 2,
   "metadata": {
    "collapsed": true
   },
   "outputs": [],
   "source": [
    "n=10 # numero de puntos\n",
    "f=20 # frecuencia en Hz\n",
    "dt= 1/(f*20) #  número de datos por unidad de  frecuencia\n",
    "t = linspace(0,(n-1)*dt,n)"
   ]
  },
  {
   "cell_type": "code",
   "execution_count": 32,
   "metadata": {
    "collapsed": false
   },
   "outputs": [],
   "source": [
    "# función dada\n",
    "def y(x):\n",
    "    lista= []\n",
    "    for k in range (len(x)):\n",
    "        for i in range (2):\n",
    "            if(x[k]>=(3*i) and x[k]<=(3*i+1)):\n",
    "                fun=x[k]-3*i\n",
    "            else :\n",
    "                fun= (x[k]*(-1/2))+2*i\n",
    "        lista += [fun]\n",
    "    return lista"
   ]
  },
  {
   "cell_type": "code",
   "execution_count": 31,
   "metadata": {
    "collapsed": false
   },
   "outputs": [
    {
     "name": "stdout",
     "output_type": "stream",
     "text": [
      "[ 0.          0.31578947  0.63157895  0.94736842  1.26315789  1.57894737\n",
      "  1.89473684  2.21052632  2.52631579  2.84210526  3.15789474  3.47368421\n",
      "  3.78947368  4.10526316  4.42105263  4.73684211  5.05263158  5.36842105\n",
      "  5.68421053  6.        ] [2.0, 1.6842105263157894, 1.368421052631579, 1.0526315789473686, 0.73684210526315796, 0.42105263157894735, 0.10526315789473695, -0.21052631578947345, -0.52631578947368407, -0.84210526315789469, 3.1578947368421053, 3.4736842105263155, 3.7894736842105261, -2.1052631578947363, -2.4210526315789469, -2.7368421052631575, -3.0526315789473681, -3.3684210526315788, -3.6842105263157894, -4.0]\n"
     ]
    },
    {
     "data": {
      "image/png": "[encoded data removed]",
      "text/plain": [
       "<matplotlib.figure.Figure at 0x106948d50>"
      ]
     },
     "metadata": {},
     "output_type": "display_data"
    }
   ],
   "source": [
    "x= linspace(0, 6,20)\n",
    "print x, y(x)\n",
    "plot(x, y(x))\n",
    "show()\n"
   ]
  },
  {
   "cell_type": "code",
   "execution_count": null,
   "metadata": {
    "collapsed": true
   },
   "outputs": [],
   "source": []
  }
 ],
 "metadata": {
  "kernelspec": {
   "display_name": "Python 2",
   "language": "python",
   "name": "python2"
  },
  "language_info": {
   "codemirror_mode": {
    "name": "ipython",
    "version": 2
   },
   "file_extension": ".py",
   "mimetype": "text/x-python",
   "name": "python",
   "nbconvert_exporter": "python",
   "pygments_lexer": "ipython2",
   "version": "2.7.9"
  }
 },
 "nbformat": 4,
 "nbformat_minor": 0
}
